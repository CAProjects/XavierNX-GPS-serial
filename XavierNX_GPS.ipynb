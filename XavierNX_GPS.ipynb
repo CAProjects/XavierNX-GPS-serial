{
 "cells": [
  {
   "cell_type": "markdown",
   "id": "simple-florida",
   "metadata": {},
   "source": [
    "# NVIDEA Xavier NX GPS NMEA Data\n",
    "<img src=\"https://developer.nvidia.com/sites/default/files/akamai/embedded/images/jetsonNX/Jetson_Xavier_NX-Developer_Kit-Front_Top_Right.png\" alt=\"NVIDEA Xavier NX\" style=\"width: 240px;\"/>\n",
    "I started this to understand how to pase the NMEAGPS data from serial port though the GPIO, *ttyTHS0*\n",
    "\n",
    "I decided to use an Adafruit Ultimate GPS Breakout V3   \n",
    "<img src=\"https://cdn-learn.adafruit.com/guides/cropped_images/000/000/077/medium640/thub.jpg?1520539843\" alt=\"Adafruit Ultimate GPS\" style=\"width: 240px;\"/>\n",
    "\n",
    "# Hardware and Dependancies\n",
    "## Hardware\n",
    "1. NVIDEA Xavier NX Developer Kit\n",
    "2. Adafruit Ultimate GPS v3\n",
    "3. Micro SD card (Min 32Gb recommended)\n",
    "\n",
    "## Dependencies/software\n",
    "1. Visual Studio Code (optional)\n",
    "2. pySerial (Python)\n",
    "3. virtualenv\n"
   ]
  },
  {
   "cell_type": "markdown",
   "id": "eligible-notice",
   "metadata": {},
   "source": [
    "# Wiring and testing\n",
    "Wiring the GPS breakout board to the Xavier NX is very similar to the Raspberry Pi as it has the same GPIO so the same wiring can be use. 1 different point to note is that the GPIO is rotates 180 degreess in relation to the raspberry pi.\n",
    "\n",
    "A useful resource to learn the GPIO pins can be found here at [Jetson Hacks(https://www.jetsonhacks.com/nvidia-jetson-xavier-nx-gpio-header-pinout/)\n",
    "\n",
    "For the Raspberry Pi Wiring you can find it [here(https://learn.adafruit.com/assets/62851)\n",
    "\n",
    "# Testing for data\n",
    "Once everything is wired up if you check the serial port using the fllowing command in the terminal `sudo cat /dev/ttyTHS0` you will not get inny data from the GPS board and this is because the baud rate is not correct. The default baudrate is 11500, however, the Adafruit GPS operates on 9600. there is a simple fix to this.\n",
    "\n",
    "In the terminal use the following command to set the baudrate  `stty -F /dev/ttyTHS0 9600` then to check that the baudrate has changed  simply type the command without the 9600 at the end and you shoulf get something like this\n",
    "```\n",
    "caprojects@XavierNX:~$ stty -F /dev/ttyTHS0 9600\n",
    "caprojects@XavierNX:~$ stty -F /dev/ttyTHS0\n",
    "speed 9600 baud; line = 0;\n",
    "min = 0; time = 0;\n",
    "-brkint -icrnl -imaxbel\n",
    "-opost -onlcr\n",
    "-isig -icanon -iexten -echo -echoe -echok -echoctl -echoke\n",
    "caprojects@XavierNX:~$ \n",
    "\n",
    "```\n",
    "\n",
    "Now type `sudo cat /dev/ttyTHS0` in the terminal again amd you will get the GPS data streaming. Now you know that the device and the Xavier is working witheach other and your wiring is correct.\n",
    "\n",
    "This is not the way i wanted to collect and use the data so its time to moce on to python"
   ]
  },
  {
   "cell_type": "markdown",
   "id": "serial-command",
   "metadata": {},
   "source": [
    "# Python and Serial\n",
    "The first thing I done was create a folder on the NVME drive to work from so all the data is in 1 place and be my work space. I then set up a Virthual Environment.\n",
    "\n",
    "Open the folder that you want to work from, right click and select open in terminal. In the terminal window, enter `python3 -m venv env3` which will create your virual environment.\n",
    "\n",
    "All my coding is done in [Visual Studio Code(https://code.visualstudio.com/) which is my go to code editor\n",
    "\n",
    "While i understand that all what I am about to run though can be done with python packages, I decided to do this manually myself to understand GPS NMEA data more myself and how to decode it."
   ]
  },
  {
   "cell_type": "markdown",
   "id": "numeric-privacy",
   "metadata": {},
   "source": [
    "```python\n",
    "import serial\n",
    "from time import sleep\n",
    "\n",
    "# Set port and set up serial\n",
    "port = \"/dev/ttyTHS0\"\n",
    "ser = serial.Serial(port, baudrate=9600)\n",
    "\n",
    "while True:\n",
    "    #delay for 1 sec, then wait for a message from serial and print the result\n",
    "    sleep(1)\n",
    "    ser.write(b'A')\n",
    "    nbChars = ser.inWaiting()\n",
    "    if nbChars>0:\n",
    "        data = ser.read(nbChars)\n",
    "        print(data)\n",
    "```"
   ]
  },
  {
   "cell_type": "markdown",
   "id": "endangered-kingston",
   "metadata": {},
   "source": [
    "This gets the data from the UART_1 *ttyTHS0* and the code does get the information ever 1 second.\n",
    "\n",
    "I used this code to grabe some sample data to work on an NMEA decoder without the worry of ever chainging data.\n",
    "\n",
    "a really handy resource for understanding NMEA sentences can be found here [GPS - NMEA sentence information(http://aprs.gids.nl/nmea/)"
   ]
  },
  {
   "cell_type": "code",
   "execution_count": null,
   "id": "behind-siemens",
   "metadata": {},
   "outputs": [],
   "source": [
    "# dataB is the raw byte string that is obtained from the GPS device\n",
    "dataB = b'$GPGGA,233030.000,5629.4709,N,00255.3588,W,1,06,1.21,70.0,M,49.2,M,,*45\\r\\n$GPGSA,A,3,21,27,01,23,22,20,,,,,,,1.51,1.21,0.90*08\\r\\n$GPGSV,4,1,13,21,69,256,18,01,42,258,34,10,39,058,,27,35,138,22*7A\\r\\n$GPGSV,4,2,13,14,29,310,20,28,25,317,,22,24,204,33,32,22,105,19*76\\r\\n$GPGSV,4,3,13,23,10,044,18,20,07,047,17,30,02,281,,24,01,026,*7C\\r\\n$GPGSV,4,4,13,45,,,*7A\\r\\n$GPRMC,233030.000,A,5629.4709,N,00255.3588,W,0.15,144.55,040221,,,A*7B\\r\\n$GPZDA,233030.000,04,02,2021,,*50\\r\\n$GPGGA,233031.000,5629.4708,N,00255.3587,W,1,06,1.21,70.0,M,49.2,M,,*4A\\r\\n$GPGSA,A,3,21,27,01,23,22,20,,,,,,,1.51,1.21,0.90*08\\r\\n$GPRMC,233031.000,A,5629.4708,N,00255.3587,W,0.25,0.73,040221,,,A*72\\r\\n$GPZDA,233031.000,04,02,2021,,*51\\r\\n'\n",
    "\n",
    "# Split the byte string into a list\n",
    "dataD = dataB.split(b'$')\n",
    "\n",
    "# List var for sorted data\n",
    "gpsdata = [\n",
    "\n",
    "# loop though the DataD list\n",
    "for x in dataD:\n",
    "    # ignore list entries that are blank\n",
    "    if x != b'':        \n",
    "        # decode byte string into UTF-8 and strip carrage returns\n",
    "        t = str(x.decode('utf-8')).strip()\n",
    "        \n",
    "        # create list of remaning string\n",
    "        t=t.split(',')\n",
    "        \n",
    "        # append it to  list to gpsdata list\n",
    "        gpsdata.append(t)\n",
    "\n",
    "# print the resutls\n",
    "print(gpsdata)"
   ]
  },
  {
   "cell_type": "markdown",
   "id": "aggressive-context",
   "metadata": {},
   "source": [
    "What this code does is conver the following byte string into a more usable format\n",
    "\n",
    "Original byte string"
   ]
  },
  {
   "cell_type": "raw",
   "id": "planned-socket",
   "metadata": {},
   "source": [
    "b'$GPGGA,233030.000,5629.4709,N,00255.3588,W,1,06,1.21,70.0,M,49.2,M,,*45\\r\\n$GPGSA,A,3,21,27,01,23,22,20,,,,,,,1.51,1.21,0.90*08\\r\\n$GPGSV,4,1,13,21,69,256,18,01,42,258,34,10,39,058,,27,35,138,22*7A\\r\\n$GPGSV,4,2,13,14,29,310,20,28,25,317,,22,24,204,33,32,22,105,19*76\\r\\n$GPGSV,4,3,13,23,10,044,18,20,07,047,17,30,02,281,,24,01,026,*7C\\r\\n$GPGSV,4,4,13,45,,,*7A\\r\\n$GPRMC,233030.000,A,5629.4709,N,00255.3588,W,0.15,144.55,040221,,,A*7B\\r\\n$GPZDA,233030.000,04,02,2021,,*50\\r\\n$GPGGA,233031.000,5629.4708,N,00255.3587,W,1,06,1.21,70.0,M,49.2,M,,*4A\\r\\n$GPGSA,A,3,21,27,01,23,22,20,,,,,,,1.51,1.21,0.90*08\\r\\n$GPRMC,233031.000,A,5629.4708,N,00255.3587,W,0.25,0.73,040221,,,A*72\\r\\n$GPZDA,233031.000,04,02,2021,,*51\\r\\n'"
   ]
  },
  {
   "cell_type": "markdown",
   "id": "computational-sweden",
   "metadata": {},
   "source": [
    "Decoded list formated data, Each line is a new list item"
   ]
  },
  {
   "cell_type": "raw",
   "id": "trained-kidney",
   "metadata": {},
   "source": [
    "'GPGGA', '233030.000', '5629.4709', 'N', '00255.3588', 'W', '1', '06', '1.21', '70.0', 'M', '49.2', 'M', '', '*45'\n",
    "'GPGSA', 'A', '3', '21', '27', '01', '23', '22', '20', '', '', '', '', '', '', '1.51', '1.21', '0.90*08'\n",
    "'GPGSV', '4', '1', '13', '21', '69', '256', '18', '01', '42', '258', '34', '10', '39', '058', '', '27', '35', '138', '22*7A'\n",
    "'GPGSV', '4', '2', '13', '14', '29', '310', '20', '28', '25', '317', '', '22', '24', '204', '33', '32', '22', '105', '19*76'\n",
    "'GPGSV', '4', '3', '13', '23', '10', '044', '18', '20', '07', '047', '17', '30', '02', '281', '', '24', '01', '026', '*7C'\n",
    "'GPGSV', '4', '4', '13', '45', '', '', '*7A'\n",
    "'GPRMC', '233030.000', 'A', '5629.4709', 'N', '00255.3588', 'W', '0.15', '144.55', '040221', '', '', 'A*7B'\n",
    "'GPZDA', '233030.000', '04', '02', '2021', '', '*50'\n",
    "'GPGGA', '233031.000', '5629.4708', 'N', '00255.3587', 'W', '1', '06', '1.21', '70.0', 'M', '49.2', 'M', '', '*4A'\n",
    "'GPGSA', 'A', '3', '21', '27', '01', '23', '22', '20', '', '', '', '', '', '', '1.51', '1.21', '0.90*08'\n",
    "'GPRMC', '233031.000', 'A', '5629.4708', 'N', '00255.3587', 'W', '0.25', '0.73', '040221', '', '', 'A*72'\n",
    "'GPZDA', '233031.000', '04', '02', '2021', '', '*51'"
   ]
  },
  {
   "cell_type": "markdown",
   "id": "therapeutic-liability",
   "metadata": {},
   "source": [
    "From here we can look up the NMEA sentence information and decode this further and format all the data in to a more usable format like json which i intend to do. By doing this, i can have all the information in a structure that I am happy and comfortable handling and can tweak it in the furture to take out information that I do not need if i so wish"
   ]
  },
  {
   "cell_type": "markdown",
   "id": "respiratory-conversion",
   "metadata": {},
   "source": [
    "# NMEA Sentences and Structure\n",
    "From the decoded list data we can see that information for the following will be available\n",
    "* GGA - Global Positioning System Fix Data\n",
    "* GSA - GPS DOP and active satellites\n",
    "* GSV - GPS Satellites in view\n",
    "* RMC - Recommended minimum specific GPS/Transit data\n",
    "* ZDA - Date & Time"
   ]
  },
  {
   "cell_type": "code",
   "execution_count": null,
   "id": "acoustic-physiology",
   "metadata": {},
   "outputs": [],
   "source": []
  }
 ],
 "metadata": {
  "kernelspec": {
   "display_name": "Python 3",
   "language": "python",
   "name": "python3"
  },
  "language_info": {
   "codemirror_mode": {
    "name": "ipython",
    "version": 3
   },
   "file_extension": ".py",
   "mimetype": "text/x-python",
   "name": "python",
   "nbconvert_exporter": "python",
   "pygments_lexer": "ipython3",
   "version": "3.7.3"
  }
 },
 "nbformat": 4,
 "nbformat_minor": 5
}
